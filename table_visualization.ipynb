{
 "cells": [
  {
   "cell_type": "code",
   "execution_count": null,
   "metadata": {},
   "outputs": [],
   "source": []
  },
  {
   "cell_type": "code",
   "execution_count": null,
   "metadata": {},
   "outputs": [],
   "source": [
    "# write me a program that turn table data into latex above\n",
    "print(\"\\\\begin{tabular}{|l|l|}\")\n",
    "print(\"\\\\toprule\")\n",
    "print(\"     Metric &        Value \\\\\\\\\")\n",
    "print(\"\\\\midrule\")\n"
   ]
  }
 ],
 "metadata": {
  "language_info": {
   "name": "python"
  }
 },
 "nbformat": 4,
 "nbformat_minor": 2
}
