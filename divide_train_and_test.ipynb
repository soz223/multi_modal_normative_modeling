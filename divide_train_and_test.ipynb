{
 "cells": [
  {
   "cell_type": "code",
   "execution_count": 49,
   "metadata": {},
   "outputs": [],
   "source": [
    "import pandas as pd\n",
    "# read from data/modality_label576_90.xlsx\n",
    "\n",
    "dataset_name = 'av45'\n",
    "df = pd.read_csv('data/' + dataset_name + '.csv')\n",
    "df2 = pd.read_csv('data/y.csv')\n",
    "# merge df and df2 on IID\n",
    "df = pd.merge(df, df2, on='IID')"
   ]
  },
  {
   "cell_type": "code",
   "execution_count": 50,
   "metadata": {},
   "outputs": [
    {
     "name": "stdout",
     "output_type": "stream",
     "text": [
      "CN: 188\n",
      "MCI: 305\n",
      "AD: 104\n"
     ]
    }
   ],
   "source": [
    "# drop all column but IID and DIA\n",
    "df = df[['IID', 'DIA']]\n",
    "# divide based on DIA\n",
    "df_cn = df[df['DIA'] == 2]\n",
    "df_mci = df[df['DIA'] == 1]\n",
    "df_ad = df[df['DIA'] == 0]\n",
    "\n",
    "\n",
    "# do me a table, show the rows of each diagnosis\n",
    "print('CN:', len(df_cn))\n",
    "print('MCI:', len(df_mci))\n",
    "print('AD:', len(df_ad))"
   ]
  },
  {
   "cell_type": "code",
   "execution_count": 45,
   "metadata": {},
   "outputs": [],
   "source": [
    "# get 80% of cn randomly, and remaining 20%\n",
    "df_cn_80 = df_cn.sample(frac=0.8)\n",
    "df_cn_20 = df_cn.drop(df_cn_80.index)\n",
    "\n",
    "# 80% of CN as train, 20% of CN, all MCI and AD as test\n",
    "df_train = df_cn_80 \n",
    "df_test = pd.concat([df_cn_20, df_mci, df_ad])"
   ]
  },
  {
   "cell_type": "code",
   "execution_count": 48,
   "metadata": {},
   "outputs": [],
   "source": [
    "path = 'outputs/'\n",
    "\n",
    "df_train_ids = df_train['IID']\n",
    "\n",
    "df_train_ids.to_csv(path + 'train_ids.csv', index=False)\n",
    "\n",
    "df_test_ids = df_test['IID']\n",
    "df_test_ids.to_csv(path + dataset_name + '_homogeneous_ids.csv', index=False)\n"
   ]
  }
 ],
 "metadata": {
  "kernelspec": {
   "display_name": "rop",
   "language": "python",
   "name": "python3"
  },
  "language_info": {
   "codemirror_mode": {
    "name": "ipython",
    "version": 3
   },
   "file_extension": ".py",
   "mimetype": "text/x-python",
   "name": "python",
   "nbconvert_exporter": "python",
   "pygments_lexer": "ipython3",
   "version": "3.8.0"
  }
 },
 "nbformat": 4,
 "nbformat_minor": 2
}
