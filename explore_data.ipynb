{
 "cells": [
  {
   "cell_type": "code",
   "execution_count": 2,
   "metadata": {},
   "outputs": [],
   "source": [
    "import numpy as np\n",
    "import matplotlib.pyplot as plt\n",
    "import matplotlib.animation as animation\n",
    "import pandas as pd"
   ]
  },
  {
   "cell_type": "code",
   "execution_count": 45,
   "metadata": {},
   "outputs": [],
   "source": [
    "\n",
    "\n",
    "path1 = 'data/[02]-imaging/'\n",
    "# path2 = 'data/[02]-imaging/FDG'\n",
    "# path3 = 'data/[02]-imaging/VBM'\n",
    "# path4 = 'data/[03]-genetics/[01]-54-SNPs'\n",
    "\n",
    "dataset_names = ['AV45', 'FDG', 'VBM']\n",
    "dataset_diag_names = ['MRI', 'PET', 'PET']"
   ]
  },
  {
   "cell_type": "code",
   "execution_count": 46,
   "metadata": {},
   "outputs": [],
   "source": [
    "datatype_names = ['_cov', '_pheno_AAL']"
   ]
  },
  {
   "cell_type": "code",
   "execution_count": 48,
   "metadata": {},
   "outputs": [],
   "source": [
    "# turn txt to csv and add diagnosis in the cov part\n",
    "# get COLUMNS_NAME on the regions, which is the features in the pheno_aal file\n",
    "for dataset_name in dataset_names:\n",
    "    # turn txt to csv and add diagnosis in the cov part\n",
    "    for datatype_name in datatype_names:\n",
    "        path = 'data/[02]-imaging/'  + dataset_name + '/' + dataset_name + datatype_name\n",
    "        df = pd.read_csv(path + '.txt', index_col=['IID'], sep='\\t')\n",
    "        # to csv at path\n",
    "        if datatype_name == '_cov':\n",
    "            if dataset_name == 'AV45':\n",
    "                i = 0\n",
    "            else:\n",
    "                i = 1\n",
    "            df_diag = pd.read_excel(path1 + dataset_name + '/' + dataset_name + '-' + dataset_diag_names[i] + '.xlsx', index_col='IID')['DIA']\n",
    "            df = pd.merge(df, df_diag, on='IID')\n",
    "\n",
    "        # merge df and df_diag based on IID\n",
    "        df.to_csv(path + '.csv', index=True, header=True, sep=',')\n",
    "\n",
    "    # get COLUMNS_NAME on the regions, which is the features in the pheno_aal file\n",
    "    path = 'data/[02]-imaging/'  + dataset_name + '/' + dataset_name + '_pheno_AAL.csv'\n",
    "    df = pd.read_csv(path, index_col=['IID'], sep=',')\n",
    "    # remove the IID and FID columns\n",
    "    df = df.drop(columns=['FID'])\n",
    "    # print these colums to a file\n",
    "    # delete file first\n",
    "\n",
    "\n",
    "    with open('data/regions.txt', 'a') as f:\n",
    "        # create file\n",
    "        f.write(\"COLUMNS_NAME_\" + dataset_name + \" = [\")\n",
    "        for item in df.columns:\n",
    "            f.write(\"\\'%s\\',\\n\" % item)\n",
    "        f.write(\"]\\n\")"
   ]
  }
 ],
 "metadata": {
  "kernelspec": {
   "display_name": "rop",
   "language": "python",
   "name": "python3"
  },
  "language_info": {
   "codemirror_mode": {
    "name": "ipython",
    "version": 3
   },
   "file_extension": ".py",
   "mimetype": "text/x-python",
   "name": "python",
   "nbconvert_exporter": "python",
   "pygments_lexer": "ipython3",
   "version": "3.8.0"
  }
 },
 "nbformat": 4,
 "nbformat_minor": 2
}
