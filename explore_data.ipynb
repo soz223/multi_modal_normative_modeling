{
 "cells": [
  {
   "cell_type": "code",
   "execution_count": 1,
   "metadata": {},
   "outputs": [],
   "source": [
    "import numpy as np\n",
    "import matplotlib.pyplot as plt\n",
    "import matplotlib.animation as animation\n",
    "import pandas as pd"
   ]
  },
  {
   "cell_type": "code",
   "execution_count": 2,
   "metadata": {},
   "outputs": [],
   "source": [
    "path1 = 'data/[02]-imaging/'\n",
    "dataset_names = ['AV45', 'FDG', 'VBM']\n",
    "dataset_diag_names = ['MRI', 'PET', 'PET']\n",
    "datatype_names = ['_cov', '_pheno_AAL']"
   ]
  },
  {
   "cell_type": "code",
   "execution_count": 3,
   "metadata": {},
   "outputs": [],
   "source": [
    "# df_cov = '/home/songlinzhao/multi_modal_normative_modeling/data/[02]-imaging/FDG/FDG_cov.csv'\n",
    "df_cov = 'data/[02]-imaging/FDG/FDG_cov.csv'\n",
    "df_cov = pd.read_csv(df_cov)\n",
    "# keep only the columns we need, IID, AGE, PTGENDER, PTEDUCAT, Phase\n",
    "df_cov = df_cov[['IID', 'AGE', 'PTGENDER', 'PTEDUCAT', 'Phase']]"
   ]
  },
  {
   "cell_type": "code",
   "execution_count": 4,
   "metadata": {},
   "outputs": [
    {
     "name": "stderr",
     "output_type": "stream",
     "text": [
      "/tmp/ipykernel_3325488/2404878384.py:6: FutureWarning: The default value of numeric_only in DataFrame.mean is deprecated. In a future version, it will default to False. In addition, specifying 'numeric_only=None' is deprecated. Select only valid columns or specify the value of numeric_only to silence this warning.\n",
      "  df = df.fillna(df.mean())\n",
      "/tmp/ipykernel_3325488/2404878384.py:6: FutureWarning: The default value of numeric_only in DataFrame.mean is deprecated. In a future version, it will default to False. In addition, specifying 'numeric_only=None' is deprecated. Select only valid columns or specify the value of numeric_only to silence this warning.\n",
      "  df = df.fillna(df.mean())\n",
      "/tmp/ipykernel_3325488/2404878384.py:6: FutureWarning: The default value of numeric_only in DataFrame.mean is deprecated. In a future version, it will default to False. In addition, specifying 'numeric_only=None' is deprecated. Select only valid columns or specify the value of numeric_only to silence this warning.\n",
      "  df = df.fillna(df.mean())\n",
      "/tmp/ipykernel_3325488/2404878384.py:6: FutureWarning: The default value of numeric_only in DataFrame.mean is deprecated. In a future version, it will default to False. In addition, specifying 'numeric_only=None' is deprecated. Select only valid columns or specify the value of numeric_only to silence this warning.\n",
      "  df = df.fillna(df.mean())\n",
      "/tmp/ipykernel_3325488/2404878384.py:6: FutureWarning: The default value of numeric_only in DataFrame.mean is deprecated. In a future version, it will default to False. In addition, specifying 'numeric_only=None' is deprecated. Select only valid columns or specify the value of numeric_only to silence this warning.\n",
      "  df = df.fillna(df.mean())\n"
     ]
    }
   ],
   "source": [
    "# turn modality_label576_90.xlsx into many csv files\n",
    "\n",
    "for sheet in ['av45', 'fdg', 'vbm', 'snp', 'y']:\n",
    "    df = pd.read_excel('data/modality_label576_90.xlsx', sheet_name=sheet)\n",
    "    # each row may have Nan. Fill Nan with average of the column\n",
    "    df = df.fillna(df.mean())\n",
    "    path = 'data/' + sheet + '.csv'\n",
    "    # change DIA column, CN to 2, MCI to 1, AD to 0\n",
    "    df['DIA'] = df['DIA'].replace('CN', 2)\n",
    "    df['DIA'] = df['DIA'].replace('MCI', 1)\n",
    "    df['DIA'] = df['DIA'].replace('AD', 0)\n",
    "    if sheet != 'y':\n",
    "        # store the IID column\n",
    "        IID = df['IID']\n",
    "        # remove the DIA column\n",
    "        df = df.drop(columns=['DIA'])\n",
    "    else:\n",
    "        # add the IID column by IID\n",
    "        df['IID'] = IID\n",
    "        # set IID as index\n",
    "        df = df.set_index('IID')\n",
    "        # merge df and df_cov based on IID\n",
    "        df = pd.merge(df, df_cov, on='IID')\n",
    "\n",
    "    if 'IID' in df.columns:\n",
    "        df = df.set_index('IID')\n",
    "    df.to_csv(path, index=True, header=True, sep=',')"
   ]
  },
  {
   "cell_type": "code",
   "execution_count": null,
   "metadata": {},
   "outputs": [],
   "source": []
  },
  {
   "cell_type": "code",
   "execution_count": null,
   "metadata": {},
   "outputs": [],
   "source": []
  },
  {
   "cell_type": "code",
   "execution_count": null,
   "metadata": {},
   "outputs": [],
   "source": []
  },
  {
   "cell_type": "code",
   "execution_count": null,
   "metadata": {},
   "outputs": [],
   "source": []
  },
  {
   "cell_type": "code",
   "execution_count": null,
   "metadata": {},
   "outputs": [],
   "source": []
  },
  {
   "cell_type": "code",
   "execution_count": 84,
   "metadata": {},
   "outputs": [
    {
     "name": "stdout",
     "output_type": "stream",
     "text": [
      "Index(['Precentral_L', 'Precentral_R', 'Frontal_Sup_L', 'Frontal_Sup_R',\n",
      "       'Frontal_Sup_Orb_L', 'Frontal_Sup_Orb_R', 'Frontal_Mid_L',\n",
      "       'Frontal_Mid_R', 'Frontal_Mid_Orb_L', 'Frontal_Mid_Orb_R',\n",
      "       'Frontal_Inf_Oper_L', 'Frontal_Inf_Oper_R', 'Frontal_Inf_Tri_L',\n",
      "       'Frontal_Inf_Tri_R', 'Frontal_Inf_Orb_L', 'Frontal_Inf_Orb_R',\n",
      "       'Rolandic_Oper_L', 'Rolandic_Oper_R', 'Supp_Motor_Area_L',\n",
      "       'Supp_Motor_Area_R', 'Olfactory_L', 'Olfactory_R',\n",
      "       'Frontal_Sup_Medial_L', 'Frontal_Sup_Medial_R', 'Frontal_Med_Orb_L',\n",
      "       'Frontal_Med_Orb_R', 'Rectus_L', 'Rectus_R', 'Insula_L', 'Insula_R',\n",
      "       'Cingulum_Ant_L', 'Cingulum_Ant_R', 'Cingulum_Mid_L', 'Cingulum_Mid_R',\n",
      "       'Cingulum_Post_L', 'Cingulum_Post_R', 'Hippocampus_L', 'Hippocampus_R',\n",
      "       'ParaHippocampal_L', 'ParaHippocampal_R', 'Amygdala_L', 'Amygdala_R',\n",
      "       'Calcarine_L', 'Calcarine_R', 'Cuneus_L', 'Cuneus_R', 'Lingual_L',\n",
      "       'Lingual_R', 'Occipital_Sup_L', 'Occipital_Sup_R', 'Occipital_Mid_L',\n",
      "       'Occipital_Mid_R', 'Occipital_Inf_L', 'Occipital_Inf_R', 'Fusiform_L',\n",
      "       'Fusiform_R', 'Postcentral_L', 'Postcentral_R', 'Parietal_Sup_L',\n",
      "       'Parietal_Sup_R', 'Parietal_Inf_L', 'Parietal_Inf_R', 'SupraMarginal_L',\n",
      "       'SupraMarginal_R', 'Angular_L', 'Angular_R', 'Precuneus_L',\n",
      "       'Precuneus_R', 'Paracentral_Lobule_L', 'Paracentral_Lobule_R',\n",
      "       'Caudate_L', 'Caudate_R', 'Putamen_L', 'Putamen_R', 'Pallidum_L',\n",
      "       'Pallidum_R', 'Thalamus_L', 'Thalamus_R', 'Heschl_L', 'Heschl_R',\n",
      "       'Temporal_Sup_L', 'Temporal_Sup_R', 'Temporal_Pole_Sup_L',\n",
      "       'Temporal_Pole_Sup_R', 'Temporal_Mid_L', 'Temporal_Mid_R',\n",
      "       'Temporal_Pole_Mid_L', 'Temporal_Pole_Mid_R', 'Temporal_Inf_L',\n",
      "       'Temporal_Inf_R'],\n",
      "      dtype='object')\n"
     ]
    }
   ],
   "source": [
    "df = pd.read_csv('data/av45.csv', index_col=0)\n",
    "print(df.columns)\n",
    "# write df.columns to regions.txt, in ''\n",
    "with open('data/regions.txt', 'w') as f:\n",
    "    f.write('COLUMNS_NAME = [')\n",
    "    for col in df.columns:\n",
    "        f.write('\\'' + col + '\\',\\n')\n",
    "    f.write(']')"
   ]
  },
  {
   "cell_type": "code",
   "execution_count": 5,
   "metadata": {},
   "outputs": [
    {
     "name": "stdout",
     "output_type": "stream",
     "text": [
      "Index(['rs4575098', 'rs6656401', 'rs2093760', 'rs4844610', 'rs4663105',\n",
      "       'rs6733839', 'rs10933431', 'rs35349669', 'rs6448453', 'rs190982',\n",
      "       'rs9271058', 'rs9473117', 'rs9381563', 'rs10948363', 'rs2718058',\n",
      "       'rs4723711', 'rs1859788', 'rs1476679', 'rs12539172', 'rs10808026',\n",
      "       'rs7810606', 'rs11771145', 'rs28834970', 'rs73223431', 'rs4236673',\n",
      "       'rs9331896', 'rs11257238', 'rs7920721', 'rs3740688', 'rs10838725',\n",
      "       'rs983392', 'rs7933202', 'rs2081545', 'rs867611', 'rs10792832',\n",
      "       'rs3851179', 'rs17125924', 'rs17125944', 'rs10498633', 'rs12881735',\n",
      "       'rs12590654', 'rs442495', 'rs59735493', 'rs113260531', 'rs28394864',\n",
      "       'rs111278892', 'rs3752246', 'rs4147929', 'rs41289512', 'rs3865444',\n",
      "       'rs6024870', 'rs6014724', 'rs7274581', 'rs429358'],\n",
      "      dtype='object')\n"
     ]
    }
   ],
   "source": [
    "df = pd.read_csv('data/snp.csv', index_col=0)\n",
    "print(df.columns)\n",
    "# write df.columns to regions.txt, in ''\n",
    "with open('data/regions_snp.txt', 'w') as f:\n",
    "    f.write('COLUMNS_NAME = [')\n",
    "    for col in df.columns:\n",
    "        f.write('\\'' + col + '\\',\\n')\n",
    "    f.write(']')"
   ]
  },
  {
   "cell_type": "code",
   "execution_count": 4,
   "metadata": {},
   "outputs": [
    {
     "name": "stdout",
     "output_type": "stream",
     "text": [
      "Index(['MNI_Amygdala_L', 'MNI_Amygdala_R', 'MNI_Angular_L', 'MNI_Angular_R',\n",
      "       'MNI_Calcarine_L', 'MNI_Calcarine_R', 'MNI_Caudate_L', 'MNI_Caudate_R',\n",
      "       'MNI_Cingulum_Ant_L', 'MNI_Cingulum_Ant_R', 'MNI_Cingulum_Mid_L',\n",
      "       'MNI_Cingulum_Mid_R', 'MNI_Cingulum_Post_L', 'MNI_Cingulum_Post_R',\n",
      "       'MNI_Cuneus_L', 'MNI_Cuneus_R', 'MNI_Frontal_Inf_Oper_L',\n",
      "       'MNI_Frontal_Inf_Oper_R', 'MNI_Frontal_Inf_Orb_L',\n",
      "       'MNI_Frontal_Inf_Orb_R', 'MNI_Frontal_Inf_Tri_L',\n",
      "       'MNI_Frontal_Inf_Tri_R', 'MNI_Frontal_Med_Orb_L',\n",
      "       'MNI_Frontal_Med_Orb_R', 'MNI_Frontal_Mid_L', 'MNI_Frontal_Mid_R',\n",
      "       'MNI_Frontal_Mid_Orb_L', 'MNI_Frontal_Mid_Orb_R', 'MNI_Frontal_Sup_L',\n",
      "       'MNI_Frontal_Sup_R', 'MNI_Frontal_Sup_Medial_L',\n",
      "       'MNI_Frontal_Sup_Medial_R', 'MNI_Frontal_Sup_Orb_L',\n",
      "       'MNI_Frontal_Sup_Orb_R', 'MNI_Fusiform_L', 'MNI_Fusiform_R',\n",
      "       'MNI_Heschl_L', 'MNI_Heschl_R', 'MNI_Hippocampus_L',\n",
      "       'MNI_Hippocampus_R', 'MNI_Insula_L', 'MNI_Insula_R', 'MNI_Lingual_L',\n",
      "       'MNI_Lingual_R', 'MNI_Occipital_Inf_L', 'MNI_Occipital_Inf_R',\n",
      "       'MNI_Occipital_Mid_L', 'MNI_Occipital_Mid_R', 'MNI_Occipital_Sup_L',\n",
      "       'MNI_Occipital_Sup_R', 'MNI_Olfactory_L', 'MNI_Olfactory_R',\n",
      "       'MNI_Pallidum_L', 'MNI_Pallidum_R', 'MNI_ParaHippocampal_L',\n",
      "       'MNI_ParaHippocampal_R', 'MNI_Paracentral_Lobule_L',\n",
      "       'MNI_Paracentral_Lobule_R', 'MNI_Parietal_Inf_L', 'MNI_Parietal_Inf_R',\n",
      "       'MNI_Parietal_Sup_L', 'MNI_Parietal_Sup_R', 'MNI_Postcentral_L',\n",
      "       'MNI_Postcentral_R', 'MNI_Precentral_L', 'MNI_Precentral_R',\n",
      "       'MNI_Precuneus_L', 'MNI_Precuneus_R', 'MNI_Putamen_L', 'MNI_Putamen_R',\n",
      "       'MNI_Rectus_L', 'MNI_Rectus_R', 'MNI_Rolandic_Oper_L',\n",
      "       'MNI_Rolandic_Oper_R', 'MNI_Supp_Motor_Area_L', 'MNI_Supp_Motor_Area_R',\n",
      "       'MNI_SupraMarginal_L', 'MNI_SupraMarginal_R', 'MNI_Temporal_Inf_L',\n",
      "       'MNI_Temporal_Inf_R', 'MNI_Temporal_Mid_L', 'MNI_Temporal_Mid_R',\n",
      "       'MNI_Temporal_Pole_Mid_L', 'MNI_Temporal_Pole_Mid_R',\n",
      "       'MNI_Temporal_Pole_Sup_L', 'MNI_Temporal_Pole_Sup_R',\n",
      "       'MNI_Temporal_Sup_L', 'MNI_Temporal_Sup_R', 'MNI_Thalamus_L',\n",
      "       'MNI_Thalamus_R'],\n",
      "      dtype='object')\n"
     ]
    }
   ],
   "source": [
    "df = pd.read_csv('data/vbm.csv', index_col=0)\n",
    "print(df.columns)\n",
    "# write df.columns to regions.txt, in ''\n",
    "with open('data/regions_vbm.txt', 'w') as f:\n",
    "    f.write('COLUMNS_NAME = [')\n",
    "    for col in df.columns:\n",
    "        f.write('\\'' + col + '\\',\\n')\n",
    "    f.write(']')"
   ]
  },
  {
   "cell_type": "code",
   "execution_count": null,
   "metadata": {},
   "outputs": [],
   "source": []
  }
 ],
 "metadata": {
  "kernelspec": {
   "display_name": "rop",
   "language": "python",
   "name": "python3"
  },
  "language_info": {
   "codemirror_mode": {
    "name": "ipython",
    "version": 3
   },
   "file_extension": ".py",
   "mimetype": "text/x-python",
   "name": "python",
   "nbconvert_exporter": "python",
   "pygments_lexer": "ipython3",
   "version": "3.8.0"
  }
 },
 "nbformat": 4,
 "nbformat_minor": 2
}
